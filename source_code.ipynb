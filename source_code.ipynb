{
  "cells": [
    {
      "cell_type": "markdown",
      "metadata": {
        "id": "view-in-github",
        "colab_type": "text"
      },
      "source": [
        "<a href=\"https://colab.research.google.com/github/Pratt33/Amazon-ml-challenge/blob/main/source_code.ipynb\" target=\"_parent\"><img src=\"https://colab.research.google.com/assets/colab-badge.svg\" alt=\"Open In Colab\"/></a>"
      ]
    },
    {
      "cell_type": "code",
      "source": [
        "!unzip 66e31d6ee96cd_student_resource_3.zip"
      ],
      "metadata": {
        "colab": {
          "base_uri": "https://localhost:8080/"
        },
        "id": "jQtBHcyGpnBG",
        "outputId": "cb340674-5c94-4686-a10b-dccaf19bbced"
      },
      "execution_count": 1,
      "outputs": [
        {
          "output_type": "stream",
          "name": "stdout",
          "text": [
            "Archive:  66e31d6ee96cd_student_resource_3.zip\n",
            "   creating: student_resource 3/\n",
            "  inflating: __MACOSX/._student_resource 3  \n",
            "  inflating: student_resource 3/sample_code.py  \n",
            "  inflating: __MACOSX/student_resource 3/._sample_code.py  \n",
            "  inflating: student_resource 3/.DS_Store  \n",
            "  inflating: __MACOSX/student_resource 3/._.DS_Store  \n",
            "   creating: student_resource 3/dataset/\n",
            "  inflating: __MACOSX/student_resource 3/._dataset  \n",
            "  inflating: student_resource 3/README.md  \n",
            "  inflating: __MACOSX/student_resource 3/._README.md  \n",
            "   creating: student_resource 3/src/\n",
            "  inflating: __MACOSX/student_resource 3/._src  \n",
            "  inflating: student_resource 3/dataset/sample_test_out.csv  \n",
            "  inflating: __MACOSX/student_resource 3/dataset/._sample_test_out.csv  \n",
            "  inflating: student_resource 3/dataset/sample_test_out_fail.csv  \n",
            "  inflating: __MACOSX/student_resource 3/dataset/._sample_test_out_fail.csv  \n",
            "  inflating: student_resource 3/dataset/test.csv  \n",
            "  inflating: __MACOSX/student_resource 3/dataset/._test.csv  \n",
            "  inflating: student_resource 3/dataset/sample_test.csv  \n",
            "  inflating: __MACOSX/student_resource 3/dataset/._sample_test.csv  \n",
            "  inflating: student_resource 3/dataset/train.csv  \n",
            "  inflating: __MACOSX/student_resource 3/dataset/._train.csv  \n",
            "  inflating: student_resource 3/src/sanity.py  \n",
            "  inflating: __MACOSX/student_resource 3/src/._sanity.py  \n",
            "  inflating: student_resource 3/src/.DS_Store  \n",
            "  inflating: __MACOSX/student_resource 3/src/._.DS_Store  \n",
            "  inflating: student_resource 3/src/constants.py  \n",
            "  inflating: __MACOSX/student_resource 3/src/._constants.py  \n",
            "  inflating: student_resource 3/src/utils.py  \n",
            "  inflating: __MACOSX/student_resource 3/src/._utils.py  \n",
            "  inflating: student_resource 3/src/test.ipynb  \n",
            "  inflating: __MACOSX/student_resource 3/src/._test.ipynb  \n"
          ]
        }
      ]
    },
    {
      "cell_type": "code",
      "source": [
        "import sys\n",
        "import os\n",
        "import pandas as pd\n",
        "\n",
        "# Add the src directory to the system path\n",
        "sys.path.append('/content/student_resource 3/src')\n",
        "\n",
        "from utils import download_images\n",
        "\n",
        "# Load the dataset\n",
        "train_data = pd.read_csv('/content/student_resource 3/dataset/train.csv')\n",
        "\n",
        "# Extract image links and indices\n",
        "image_links = train_data['image_link']\n",
        "image_indices = train_data['group_id']\n",
        "\n",
        "# Download images using the helper function\n",
        "for idx, url in zip(image_indices, image_links):\n",
        "    download_images(url, f'images/{idx}.jpg')  # Save images with index as filename\n"
      ],
      "metadata": {
        "colab": {
          "base_uri": "https://localhost:8080/"
        },
        "id": "Q7tclTqkqfuE",
        "outputId": "ec5ab465-0d8c-46a5-ef0f-572998252ddf"
      },
      "execution_count": null,
      "outputs": [
        {
          "output_type": "stream",
          "name": "stderr",
          "text": [
            "100%|██████████| 51/51 [00:09<00:00,  5.10it/s]\n",
            "100%|██████████| 51/51 [00:10<00:00,  4.70it/s]\n",
            "100%|██████████| 51/51 [00:10<00:00,  5.09it/s]\n",
            "100%|██████████| 51/51 [00:10<00:00,  5.10it/s]\n",
            "100%|██████████| 51/51 [00:10<00:00,  4.75it/s]\n",
            "100%|██████████| 51/51 [00:10<00:00,  5.07it/s]\n",
            "100%|██████████| 51/51 [00:10<00:00,  5.09it/s]\n",
            "100%|██████████| 51/51 [00:10<00:00,  4.81it/s]\n",
            "100%|██████████| 51/51 [00:10<00:00,  5.10it/s]\n",
            "100%|██████████| 51/51 [00:10<00:00,  5.08it/s]\n",
            "100%|██████████| 51/51 [00:10<00:00,  4.80it/s]\n",
            "100%|██████████| 51/51 [00:10<00:00,  5.08it/s]\n",
            "100%|██████████| 51/51 [00:09<00:00,  5.13it/s]\n",
            "100%|██████████| 51/51 [00:10<00:00,  4.72it/s]\n",
            "100%|██████████| 51/51 [00:10<00:00,  4.97it/s]\n",
            "100%|██████████| 51/51 [00:09<00:00,  5.11it/s]\n",
            "100%|██████████| 51/51 [00:10<00:00,  4.68it/s]\n",
            "100%|██████████| 51/51 [00:10<00:00,  4.91it/s]\n",
            "100%|██████████| 51/51 [00:09<00:00,  5.12it/s]\n",
            "100%|██████████| 51/51 [00:10<00:00,  4.83it/s]\n",
            "100%|██████████| 51/51 [00:10<00:00,  4.79it/s]\n",
            "100%|██████████| 51/51 [00:10<00:00,  5.08it/s]\n",
            "100%|██████████| 51/51 [00:10<00:00,  5.09it/s]\n",
            "100%|██████████| 51/51 [00:10<00:00,  4.79it/s]\n",
            "100%|██████████| 51/51 [00:10<00:00,  5.08it/s]\n",
            "100%|██████████| 51/51 [00:10<00:00,  5.10it/s]\n",
            "100%|██████████| 51/51 [00:10<00:00,  4.67it/s]\n",
            "100%|██████████| 51/51 [00:10<00:00,  4.95it/s]\n",
            "100%|██████████| 51/51 [00:10<00:00,  5.08it/s]\n",
            "100%|██████████| 51/51 [00:10<00:00,  5.03it/s]\n",
            "100%|██████████| 51/51 [00:10<00:00,  4.76it/s]\n",
            "100%|██████████| 51/51 [00:10<00:00,  5.08it/s]\n",
            "100%|██████████| 51/51 [00:10<00:00,  5.08it/s]\n",
            "100%|██████████| 51/51 [00:10<00:00,  4.78it/s]\n",
            "100%|██████████| 51/51 [00:10<00:00,  5.08it/s]\n",
            "100%|██████████| 51/51 [00:09<00:00,  5.10it/s]\n",
            "100%|██████████| 51/51 [00:10<00:00,  4.69it/s]\n",
            "100%|██████████| 51/51 [00:10<00:00,  4.99it/s]\n",
            "100%|██████████| 51/51 [00:10<00:00,  5.09it/s]\n",
            "100%|██████████| 51/51 [00:10<00:00,  5.07it/s]\n",
            "100%|██████████| 51/51 [00:10<00:00,  4.78it/s]\n",
            "100%|██████████| 51/51 [00:10<00:00,  4.88it/s]\n",
            "100%|██████████| 51/51 [00:10<00:00,  5.08it/s]\n",
            "100%|██████████| 51/51 [00:10<00:00,  4.77it/s]\n",
            "100%|██████████| 51/51 [00:10<00:00,  5.04it/s]\n",
            "100%|██████████| 51/51 [00:10<00:00,  5.09it/s]\n",
            "100%|██████████| 51/51 [00:10<00:00,  4.99it/s]\n",
            "100%|██████████| 51/51 [00:10<00:00,  4.74it/s]\n",
            "100%|██████████| 51/51 [00:10<00:00,  5.10it/s]\n",
            "100%|██████████| 51/51 [00:10<00:00,  5.09it/s]\n",
            "100%|██████████| 51/51 [00:10<00:00,  4.80it/s]\n",
            "100%|██████████| 51/51 [00:10<00:00,  5.04it/s]\n",
            "100%|██████████| 51/51 [00:10<00:00,  5.08it/s]\n",
            "100%|██████████| 51/51 [00:10<00:00,  4.90it/s]\n",
            "100%|██████████| 51/51 [00:10<00:00,  4.74it/s]\n",
            "100%|██████████| 51/51 [00:09<00:00,  5.10it/s]\n",
            "100%|██████████| 51/51 [00:10<00:00,  5.09it/s]\n",
            "100%|██████████| 51/51 [00:10<00:00,  4.81it/s]\n",
            "100%|██████████| 51/51 [00:10<00:00,  4.94it/s]\n",
            "100%|██████████| 51/51 [00:10<00:00,  5.09it/s]\n",
            "100%|██████████| 51/51 [00:10<00:00,  4.68it/s]\n",
            "100%|██████████| 51/51 [00:10<00:00,  4.93it/s]\n",
            "100%|██████████| 51/51 [00:09<00:00,  5.10it/s]\n",
            "100%|██████████| 51/51 [00:09<00:00,  5.10it/s]\n",
            "100%|██████████| 51/51 [00:10<00:00,  4.79it/s]\n",
            "100%|██████████| 51/51 [00:10<00:00,  5.07it/s]\n",
            "100%|██████████| 51/51 [00:10<00:00,  5.08it/s]\n",
            "100%|██████████| 51/51 [00:10<00:00,  4.77it/s]\n",
            "100%|██████████| 51/51 [00:10<00:00,  5.05it/s]\n",
            "100%|██████████| 51/51 [00:10<00:00,  5.06it/s]\n",
            "100%|██████████| 51/51 [00:10<00:00,  4.91it/s]\n",
            "100%|██████████| 51/51 [00:10<00:00,  4.76it/s]\n",
            "100%|██████████| 51/51 [00:10<00:00,  5.08it/s]\n",
            "100%|██████████| 51/51 [00:10<00:00,  5.09it/s]\n",
            "  0%|          | 0/51 [00:00<?, ?it/s]"
          ]
        }
      ]
    }
  ],
  "metadata": {
    "colab": {
      "name": "Welcome To Colab",
      "provenance": [],
      "gpuType": "T4",
      "include_colab_link": true
    },
    "kernelspec": {
      "display_name": "Python 3",
      "name": "python3"
    },
    "accelerator": "GPU"
  },
  "nbformat": 4,
  "nbformat_minor": 0
}